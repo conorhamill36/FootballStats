{
 "cells": [
  {
   "cell_type": "code",
   "execution_count": null,
   "metadata": {
    "collapsed": true
   },
   "outputs": [],
   "source": [
    "Notes on getting data:\n",
    "    -https://www.premierleague.com/match/59065 gives all information (goals, yellow/red cards, fouls)\n",
    "    -https://www.football-data.org/ is good API, but need to pay for yellow cards (have emailed asking for access)\n",
    "    -https://github.com/openfootball/england/tree/master/2020-21 is good, but just has goals  \n",
    "    -https://elenasport.io/ Looks promising, need to sign up. Have signed up, contains yellow cards. Think shall go with this.   "
   ]
  },
  {
   "cell_type": "code",
   "execution_count": 452,
   "metadata": {},
   "outputs": [],
   "source": [
    "import requests\n",
    "import http.client \n",
    "import json\n",
    "import pprint\n",
    "import pandas as pd\n",
    "import numpy as np\n",
    "from scipy.stats import t\n",
    "from datetime import datetime\n",
    "import csv\n",
    "import matplotlib.pyplot as plt\n",
    "%matplotlib inline"
   ]
  },
  {
   "cell_type": "code",
   "execution_count": 248,
   "metadata": {
    "collapsed": true
   },
   "outputs": [],
   "source": [
    "#Start of making functions\n",
    "\n",
    "#Function to retrieve json object from API endpoint\n",
    "def makeRequest(url, querystring = {}):\n",
    "    headers = {\n",
    "    'x-rapidapi-key': \"be5fa28e00msh131c81260ea9960p165cd5jsn0ab5a9447d39\",\n",
    "    'x-rapidapi-host': \"elenasport-io1.p.rapidapi.com\"\n",
    "    }\n",
    "    \n",
    "    response = requests.request(\"GET\", url, headers=headers, params = querystring)\n",
    "    response_data_json = response.json()\n",
    "    return response_data_json"
   ]
  },
  {
   "cell_type": "code",
   "execution_count": null,
   "metadata": {
    "collapsed": true
   },
   "outputs": [],
   "source": [
    "#Order of getting infomration from ElenaSport.io\n",
    "\n",
    "# Country ID\n",
    "# League ID\n",
    "# Seasons by League ID\n",
    "# Fixtures by Season ID\n",
    "# stats by Fixture ID"
   ]
  },
  {
   "cell_type": "code",
   "execution_count": 253,
   "metadata": {},
   "outputs": [],
   "source": [
    "# response_data_json = response.json()\n",
    "# pprint.pprint(response_data_json)\n",
    "\n",
    "def getCountryIDfromCountryName(country_name):\n",
    "    url = \"https://elenasport-io1.p.rapidapi.com/v2/countries\"\n",
    "    query_string = {\"name\":\"Eng\",\"page\":\"1\"}\n",
    "    response_data_json = makeRequest(url, query_string)\n",
    "    \n",
    "    for keys in response_data_json['data']:\n",
    "        print(keys['name'])\n",
    "        if(keys['name'] == country_name):\n",
    "            country_id = keys['id']\n",
    "            print(f\"Country id for {country_name} is {country_id}\")\n",
    "            return country_id"
   ]
  },
  {
   "cell_type": "code",
   "execution_count": 254,
   "metadata": {},
   "outputs": [
    {
     "name": "stdout",
     "output_type": "stream",
     "text": [
      "England\n",
      "Country id for England is 27\n"
     ]
    },
    {
     "data": {
      "text/plain": [
       "27"
      ]
     },
     "execution_count": 254,
     "metadata": {},
     "output_type": "execute_result"
    }
   ],
   "source": [
    "country_id = getCountryIDfromCountryName('England')"
   ]
  },
  {
   "cell_type": "code",
   "execution_count": 255,
   "metadata": {
    "collapsed": true
   },
   "outputs": [],
   "source": [
    "def getLeaguesIDfromCountryID(leagues_name, country_id):\n",
    "    url =  f\"https://elenasport-io1.p.rapidapi.com/v2/countries/{country_id}/leagues\"\n",
    "    print(f\"Leagues url is {url}\")\n",
    "    leagues_data_json = makeRequest(url)\n",
    "    \n",
    "    for key in leagues_data_json['data']:\n",
    "        print(key['name'])\n",
    "        print(leagues_name)\n",
    "        if(str(key['name']) == str(leagues_name)):\n",
    "            print(f\"{leagues_name} id is {key['id']}\")\n",
    "            return key['id']\n",
    "        "
   ]
  },
  {
   "cell_type": "code",
   "execution_count": 256,
   "metadata": {},
   "outputs": [
    {
     "name": "stdout",
     "output_type": "stream",
     "text": [
      "Leagues url is https://elenasport-io1.p.rapidapi.com/v2/countries/27/leagues\n",
      "FA Cup\n",
      "Premier League\n",
      "Premier League\n",
      "Premier League\n",
      "Premier League id is 234\n"
     ]
    },
    {
     "data": {
      "text/plain": [
       "234"
      ]
     },
     "execution_count": 256,
     "metadata": {},
     "output_type": "execute_result"
    }
   ],
   "source": [
    "leagues_id = getLeaguesIDfromCountryID('Premier League', 27)\n",
    "leagues_id"
   ]
  },
  {
   "cell_type": "code",
   "execution_count": 192,
   "metadata": {},
   "outputs": [
    {
     "name": "stdout",
     "output_type": "stream",
     "text": [
      "FA Cup\n",
      "Premier League\n",
      "Premier League\n",
      "Premier League\n",
      "Premier League id is 234\n"
     ]
    }
   ],
   "source": [
    "def getLeagueIDfromLeagues(leagueName, leagues_json):\n",
    "    #Takes in JSON file\n",
    "    for key in leagues_json['data']:\n",
    "        print(key['name'])\n",
    "        print(leagueName)\n",
    "        if(str(key['name']) == str(leagueName)):\n",
    "            \n",
    "#         if(leagueName in key):\n",
    "            print(f\"{leagueName} id is {key['id']}\")\n",
    "            return key['id']\n",
    "        \n",
    "    \n",
    "league_id = getLeagueIDfromLeagues('Premier League', leagues_data_json)    \n",
    "    "
   ]
  },
  {
   "cell_type": "code",
   "execution_count": 257,
   "metadata": {
    "collapsed": true
   },
   "outputs": [],
   "source": [
    "def getSeasonIDfromLeagueID(season_name, league_id):\n",
    "    url = f\"https://elenasport-io1.p.rapidapi.com/v2/leagues/{leagueID}/seasons\"\n",
    "    print(f\"Season url is {url}\")\n",
    "    league_data_json = makeRequest(url)\n",
    "    for key in league_json['data']:\n",
    "        print(key['leagueName'])\n",
    "        print(season_name)\n",
    "        if(str(key['leagueName']) == str(season_name)):\n",
    "            print(f\"{season_name} id is {key['id']}\")\n",
    "            return key['id']\n",
    "    "
   ]
  },
  {
   "cell_type": "code",
   "execution_count": 438,
   "metadata": {},
   "outputs": [
    {
     "name": "stdout",
     "output_type": "stream",
     "text": [
      "Season url is https://elenasport-io1.p.rapidapi.com/v2/leagues/234/seasons\n",
      "Premier League - 2020/2021\n",
      "Premier League - 2019/2020\n",
      "Premier League - 2019/2020\n",
      "Premier League - 2019/2020\n",
      "Premier League - 2019/2020 id is 96\n"
     ]
    }
   ],
   "source": [
    "season_id = getSeasonIDfromLeagueID(\"Premier League - 2019/2020\", league_id)"
   ]
  },
  {
   "cell_type": "code",
   "execution_count": 444,
   "metadata": {},
   "outputs": [],
   "source": [
    "def getFixturesfromSeasonID(season_id):\n",
    "    print(f\"Getting fixtures from season ID {season_id}\")\n",
    "    url = f\"https://elenasport-io1.p.rapidapi.com/v2/seasons/{season_id}/fixtures\"\n",
    "    print(f\"Url is {url}\")\n",
    "    fixtureData = []\n",
    "    \n",
    "    for page_no in range(1, 10): \n",
    "        print(f\"Getting data from page {page_no}\")\n",
    "        querystring = {\"page\":str(page_no),\"expand\":\"stats,events\"}\n",
    "        season_json = makeRequest(url, querystring)\n",
    "\n",
    "        for fixture in season_json['data']:\n",
    "#             print(f\"Date: {fixture['date']}\")\n",
    "            fixtureData.append(getFixtureStats(fixture))\n",
    "\n",
    "    return fixtureData"
   ]
  },
  {
   "cell_type": "code",
   "execution_count": 459,
   "metadata": {},
   "outputs": [],
   "source": [
    "def getFixtureStats(fixture):\n",
    "    print(f\"Date: {fixture['date']}\")\n",
    "    print(f\"Score: {fixture['homeName']} {fixture['team_home_90min_goals']} - {fixture['team_away_90min_goals']} {fixture['awayName']}\")\n",
    "\n",
    "    #Getting number of y_cards\n",
    "    y_card_sum = 0\n",
    "    try:\n",
    "        for event in fixture['expand']['events']:\n",
    "            if (event['type'] == 'y_card'):\n",
    "#                 print(f\"{event['type']} at {event['elapsed']} minutes\")\n",
    "                y_card_sum = y_card_sum + 1 \n",
    "    except:\n",
    "        print(\"No events found\")\n",
    "    print(f\"y card sum = {y_card_sum}\")  \n",
    "    return [datetime.strptime(fixture['date'], '%Y-%m-%d %H:%M:%S'), fixture['homeName'], fixture['awayName'], fixture['team_home_90min_goals'], fixture['team_away_90min_goals'], y_card_sum]"
   ]
  },
  {
   "cell_type": "code",
   "execution_count": 460,
   "metadata": {},
   "outputs": [
    {
     "name": "stdout",
     "output_type": "stream",
     "text": [
      "Getting fixtures from season ID 96\n",
      "Url is https://elenasport-io1.p.rapidapi.com/v2/seasons/96/fixtures\n",
      "Getting data from page 1\n",
      "Date: 2020-06-21 13:00:00\n",
      "Score: Newcastle United 3 - 0 Sheffield United\n",
      "y card sum = 3\n",
      "Date: 2020-06-27 11:30:00\n",
      "Score: Aston Villa 0 - 1 Wolverhampton Wanderers\n",
      "y card sum = 2\n",
      "Date: 2020-07-01 19:15:00\n",
      "Score: West Ham United 3 - 2 Chelsea\n",
      "y card sum = 3\n",
      "Date: 2020-07-11 11:30:00\n",
      "Score: Watford 2 - 1 Newcastle United\n",
      "y card sum = 5\n",
      "Date: 2020-07-11 14:00:00\n",
      "Score: Liverpool 1 - 1 Burnley\n",
      "y card sum = 3\n",
      "Date: 2020-07-11 16:30:00\n",
      "Score: Sheffield United 3 - 0 Chelsea\n",
      "y card sum = 1\n",
      "Date: 2020-07-11 19:00:00\n",
      "Score: Brighton & Hove Albion 0 - 5 Manchester City\n",
      "y card sum = 1\n",
      "Date: 2020-07-12 11:00:00\n",
      "Score: Wolverhampton Wanderers 3 - 0 Everton\n",
      "y card sum = 2\n",
      "Date: 2020-07-12 13:15:00\n",
      "Score: Aston Villa 2 - 0 Crystal Palace\n",
      "y card sum = 6\n",
      "Date: 2020-07-12 15:30:00\n",
      "Score: Tottenham Hotspur 2 - 1 Arsenal\n",
      "y card sum = 8\n",
      "Date: 2020-07-12 18:00:00\n",
      "Score: AFC Bournemouth 4 - 1 Leicester City\n",
      "y card sum = 3\n",
      "Date: 2020-07-13 19:00:00\n",
      "Score: Manchester United 2 - 2 Southampton\n",
      "y card sum = 4\n",
      "Date: 2020-07-14 19:15:00\n",
      "Score: Chelsea 1 - 0 Norwich City\n",
      "y card sum = 4\n",
      "Date: 2020-07-15 17:00:00\n",
      "Score: Burnley 1 - 1 Wolverhampton Wanderers\n",
      "y card sum = 0\n",
      "Date: 2020-07-15 17:00:00\n",
      "Score: Manchester City 2 - 1 AFC Bournemouth\n",
      "y card sum = 2\n",
      "Date: 2020-07-15 17:00:00\n",
      "Score: Newcastle United 1 - 3 Tottenham Hotspur\n",
      "y card sum = 5\n",
      "Date: 2020-07-15 19:15:00\n",
      "Score: Arsenal 2 - 1 Liverpool\n",
      "y card sum = 4\n",
      "Date: 2020-07-16 17:00:00\n",
      "Score: Leicester City 2 - 0 Sheffield United\n",
      "y card sum = 3\n",
      "Date: 2020-07-26 15:00:00\n",
      "Score: Arsenal 3 - 2 Watford\n",
      "y card sum = 6\n",
      "Date: 2020-07-26 15:00:00\n",
      "Score: Burnley 1 - 2 Brighton & Hove Albion\n",
      "y card sum = 3\n",
      "Date: 2020-07-26 15:00:00\n",
      "Score: Chelsea 2 - 0 Wolverhampton Wanderers\n",
      "y card sum = 5\n",
      "Date: 2020-07-26 15:00:00\n",
      "Score: Everton 1 - 3 AFC Bournemouth\n",
      "y card sum = 1\n",
      "Date: 2020-07-26 15:00:00\n",
      "Score: Leicester City 0 - 2 Manchester United\n",
      "y card sum = 6\n",
      "Date: 2020-07-26 15:00:00\n",
      "Score: Newcastle United 1 - 3 Liverpool\n",
      "y card sum = 1\n",
      "Date: 2020-07-26 15:00:00\n",
      "Score: Southampton 3 - 1 Sheffield United\n",
      "y card sum = 1\n",
      "Getting data from page 2\n",
      "Date: 2020-06-24 17:00:00\n",
      "Score: Manchester United 3 - 0 Sheffield United\n",
      "y card sum = 1\n",
      "Date: 2020-06-24 17:00:00\n",
      "Score: Newcastle United 1 - 1 Aston Villa\n",
      "y card sum = 4\n",
      "Date: 2020-06-24 17:00:00\n",
      "Score: Norwich City 0 - 1 Everton\n",
      "y card sum = 1\n",
      "Date: 2020-06-24 17:00:00\n",
      "Score: Wolverhampton Wanderers 1 - 0 AFC Bournemouth\n",
      "y card sum = 6\n",
      "Date: 2020-06-24 19:15:00\n",
      "Score: Liverpool 4 - 0 Crystal Palace\n",
      "y card sum = 0\n",
      "Date: 2020-06-25 17:00:00\n",
      "Score: Burnley 1 - 0 Watford\n",
      "y card sum = 1\n",
      "Date: 2020-06-25 17:00:00\n",
      "Score: Southampton 0 - 2 Arsenal\n",
      "y card sum = 2\n",
      "Date: 2020-06-25 19:15:00\n",
      "Score: Chelsea 2 - 1 Manchester City\n",
      "y card sum = 2\n",
      "Date: 2020-06-28 15:30:00\n",
      "Score: Watford 1 - 3 Southampton\n",
      "y card sum = 3\n",
      "Date: 2020-06-29 19:00:00\n",
      "Score: Crystal Palace 0 - 1 Burnley\n",
      "y card sum = 2\n",
      "Date: 2020-06-30 19:15:00\n",
      "Score: Brighton & Hove Albion 0 - 3 Manchester United\n",
      "y card sum = 1\n",
      "Date: 2020-07-05 13:15:00\n",
      "Score: Newcastle United 2 - 2 West Ham United\n",
      "y card sum = 1\n",
      "Date: 2020-07-05 15:30:00\n",
      "Score: Liverpool 2 - 0 Aston Villa\n",
      "y card sum = 2\n",
      "Date: 2020-07-05 18:00:00\n",
      "Score: Southampton 1 - 0 Manchester City\n",
      "y card sum = 3\n",
      "Date: 2020-07-06 19:00:00\n",
      "Score: Tottenham Hotspur 1 - 0 Everton\n",
      "y card sum = 5\n",
      "Date: 2020-07-07 17:00:00\n",
      "Score: Crystal Palace 2 - 3 Chelsea\n",
      "y card sum = 1\n",
      "Date: 2020-07-07 17:00:00\n",
      "Score: Watford 2 - 1 Norwich City\n",
      "y card sum = 6\n",
      "Date: 2020-07-07 19:15:00\n",
      "Score: Arsenal 1 - 1 Leicester City\n",
      "y card sum = 1\n",
      "Date: 2020-07-08 17:00:00\n",
      "Score: Manchester City 5 - 0 Newcastle United\n",
      "y card sum = 0\n",
      "Date: 2020-07-08 17:00:00\n",
      "Score: Sheffield United 1 - 0 Wolverhampton Wanderers\n",
      "y card sum = 2\n",
      "Date: 2020-07-08 17:00:00\n",
      "Score: West Ham United 0 - 1 Burnley\n",
      "y card sum = 2\n",
      "Date: 2020-07-08 19:15:00\n",
      "Score: Brighton & Hove Albion 1 - 3 Liverpool\n",
      "y card sum = 5\n",
      "Date: 2020-07-09 17:00:00\n",
      "Score: AFC Bournemouth 0 - 0 Tottenham Hotspur\n",
      "y card sum = 5\n",
      "Date: 2020-07-09 17:00:00\n",
      "Score: Everton 1 - 1 Southampton\n",
      "y card sum = 6\n",
      "Date: 2020-07-09 19:15:00\n",
      "Score: Aston Villa 0 - 3 Manchester United\n",
      "y card sum = 5\n",
      "Getting data from page 3\n",
      "Date: 2020-02-29 15:00:00\n",
      "Score: AFC Bournemouth 2 - 2 Chelsea\n",
      "y card sum = 4\n",
      "Date: 2020-03-01 14:00:00\n",
      "Score: Everton 1 - 1 Manchester United\n",
      "y card sum = 7\n",
      "Date: 2020-03-01 14:00:00\n",
      "Score: Tottenham Hotspur 2 - 3 Wolverhampton Wanderers\n",
      "y card sum = 5\n",
      "Date: 2020-03-07 12:30:00\n",
      "Score: Liverpool 2 - 1 AFC Bournemouth\n",
      "y card sum = 1\n",
      "Date: 2020-03-07 15:00:00\n",
      "Score: Arsenal 1 - 0 West Ham United\n",
      "y card sum = 2\n",
      "Date: 2020-03-07 15:00:00\n",
      "Score: Crystal Palace 1 - 0 Watford\n",
      "y card sum = 8\n",
      "Date: 2020-03-07 15:00:00\n",
      "Score: Sheffield United 1 - 0 Norwich City\n",
      "y card sum = 0\n",
      "Date: 2020-03-07 15:00:00\n",
      "Score: Southampton 0 - 1 Newcastle United\n",
      "y card sum = 3\n",
      "Date: 2020-03-07 15:00:00\n",
      "Score: Wolverhampton Wanderers 0 - 0 Brighton & Hove Albion\n",
      "y card sum = 4\n",
      "Date: 2020-03-07 17:30:00\n",
      "Score: Burnley 1 - 1 Tottenham Hotspur\n",
      "y card sum = 9\n",
      "Date: 2020-03-08 14:00:00\n",
      "Score: Chelsea 4 - 0 Everton\n",
      "y card sum = 3\n",
      "Date: 2020-03-08 16:30:00\n",
      "Score: Manchester United 2 - 0 Manchester City\n",
      "y card sum = 6\n",
      "Date: 2020-03-09 20:00:00\n",
      "Score: Leicester City 4 - 0 Aston Villa\n",
      "y card sum = 3\n",
      "Date: 2020-06-17 17:00:00\n",
      "Score: Aston Villa 0 - 0 Sheffield United\n",
      "y card sum = 2\n",
      "Date: 2020-06-17 19:15:00\n",
      "Score: Manchester City 3 - 0 Arsenal\n",
      "y card sum = 2\n",
      "Date: 2020-06-19 17:00:00\n",
      "Score: Norwich City 0 - 3 Southampton\n",
      "y card sum = 2\n",
      "Date: 2020-06-19 19:15:00\n",
      "Score: Tottenham Hotspur 1 - 1 Manchester United\n",
      "y card sum = 1\n",
      "Date: 2020-06-20 11:30:00\n",
      "Score: Watford 1 - 1 Leicester City\n",
      "y card sum = 1\n",
      "Date: 2020-06-20 14:00:00\n",
      "Score: Brighton & Hove Albion 2 - 1 Arsenal\n",
      "y card sum = 3\n",
      "Date: 2020-06-20 16:30:00\n",
      "Score: West Ham United 0 - 2 Wolverhampton Wanderers\n",
      "y card sum = 2\n",
      "Date: 2020-06-20 18:45:00\n",
      "Score: AFC Bournemouth 0 - 2 Crystal Palace\n",
      "y card sum = 5\n",
      "Date: 2020-06-21 15:15:00\n",
      "Score: Aston Villa 1 - 2 Chelsea\n",
      "y card sum = 2\n",
      "Date: 2020-06-21 18:00:00\n",
      "Score: Everton 0 - 0 Liverpool\n",
      "y card sum = 3\n",
      "Date: 2020-06-22 19:00:00\n",
      "Score: Manchester City 5 - 0 Burnley\n",
      "y card sum = 2\n",
      "Date: 2020-06-23 17:00:00\n",
      "Score: Leicester City 0 - 0 Brighton & Hove Albion\n",
      "y card sum = 4\n",
      "Getting data from page 4\n",
      "Date: 2020-02-02 16:30:00\n",
      "Score: Tottenham Hotspur 2 - 0 Manchester City\n",
      "y card sum = 6\n",
      "Date: 2020-02-08 12:30:00\n",
      "Score: Everton 3 - 1 Crystal Palace\n",
      "y card sum = 1\n",
      "Date: 2020-02-08 17:30:00\n",
      "Score: Brighton & Hove Albion 1 - 1 Watford\n",
      "y card sum = 4\n",
      "Date: 2020-02-09 14:00:00\n",
      "Score: Sheffield United 2 - 1 AFC Bournemouth\n",
      "y card sum = 4\n",
      "Date: 2020-02-14 20:00:00\n",
      "Score: Wolverhampton Wanderers 0 - 0 Leicester City\n",
      "y card sum = 5\n",
      "Date: 2020-02-15 12:30:00\n",
      "Score: Southampton 1 - 2 Burnley\n",
      "y card sum = 4\n",
      "Date: 2020-02-15 17:30:00\n",
      "Score: Norwich City 0 - 1 Liverpool\n",
      "y card sum = 3\n",
      "Date: 2020-02-16 14:00:00\n",
      "Score: Aston Villa 2 - 3 Tottenham Hotspur\n",
      "y card sum = 2\n",
      "Date: 2020-02-16 16:30:00\n",
      "Score: Arsenal 4 - 0 Newcastle United\n",
      "y card sum = 2\n",
      "Date: 2020-02-17 20:00:00\n",
      "Score: Chelsea 0 - 2 Manchester United\n",
      "y card sum = 7\n",
      "Date: 2020-02-19 19:30:00\n",
      "Score: Manchester City 2 - 0 West Ham United\n",
      "y card sum = 1\n",
      "Date: 2020-02-22 12:30:00\n",
      "Score: Chelsea 2 - 1 Tottenham Hotspur\n",
      "y card sum = 3\n",
      "Date: 2020-02-22 15:00:00\n",
      "Score: Burnley 3 - 0 AFC Bournemouth\n",
      "y card sum = 6\n",
      "Date: 2020-02-22 15:00:00\n",
      "Score: Crystal Palace 1 - 0 Newcastle United\n",
      "y card sum = 7\n",
      "Date: 2020-02-22 15:00:00\n",
      "Score: Sheffield United 1 - 1 Brighton & Hove Albion\n",
      "y card sum = 2\n",
      "Date: 2020-02-22 15:00:00\n",
      "Score: Southampton 2 - 0 Aston Villa\n",
      "y card sum = 4\n",
      "Date: 2020-02-22 17:30:00\n",
      "Score: Leicester City 0 - 1 Manchester City\n",
      "y card sum = 0\n",
      "Date: 2020-02-23 14:00:00\n",
      "Score: Manchester United 3 - 0 Watford\n",
      "y card sum = 1\n",
      "Date: 2020-02-23 14:00:00\n",
      "Score: Wolverhampton Wanderers 3 - 0 Norwich City\n",
      "y card sum = 5\n",
      "Date: 2020-02-23 16:30:00\n",
      "Score: Arsenal 3 - 2 Everton\n",
      "y card sum = 4\n",
      "Date: 2020-02-24 20:00:00\n",
      "Score: Liverpool 3 - 2 West Ham United\n",
      "y card sum = 3\n",
      "Date: 2020-02-28 20:00:00\n",
      "Score: Norwich City 1 - 0 Leicester City\n",
      "y card sum = 3\n",
      "Date: 2020-02-29 12:30:00\n",
      "Score: Brighton & Hove Albion 0 - 1 Crystal Palace\n",
      "y card sum = 3\n",
      "Date: 2020-02-29 15:00:00\n",
      "Score: Newcastle United 0 - 0 Burnley\n",
      "y card sum = 7\n",
      "Date: 2020-02-29 15:00:00\n",
      "Score: West Ham United 3 - 1 Southampton\n",
      "y card sum = 2\n",
      "Getting data from page 5\n"
     ]
    },
    {
     "name": "stdout",
     "output_type": "stream",
     "text": [
      "Date: 2020-01-18 15:00:00\n",
      "Score: Brighton & Hove Albion 1 - 1 Aston Villa\n",
      "y card sum = 5\n",
      "Date: 2020-01-18 15:00:00\n",
      "Score: Manchester City 2 - 2 Crystal Palace\n",
      "y card sum = 3\n",
      "Date: 2020-01-18 15:00:00\n",
      "Score: Southampton 2 - 3 Wolverhampton Wanderers\n",
      "y card sum = 2\n",
      "Date: 2020-01-18 17:30:00\n",
      "Score: Newcastle United 1 - 0 Chelsea\n",
      "y card sum = 2\n",
      "Date: 2020-01-19 14:00:00\n",
      "Score: Burnley 2 - 1 Leicester City\n",
      "y card sum = 1\n",
      "Date: 2020-01-19 16:30:00\n",
      "Score: Liverpool 2 - 0 Manchester United\n",
      "y card sum = 4\n",
      "Date: 2020-01-21 19:30:00\n",
      "Score: AFC Bournemouth 3 - 1 Brighton & Hove Albion\n",
      "y card sum = 2\n",
      "Date: 2020-01-21 19:30:00\n",
      "Score: Aston Villa 2 - 1 Watford\n",
      "y card sum = 4\n",
      "Date: 2020-01-21 19:30:00\n",
      "Score: Everton 2 - 2 Newcastle United\n",
      "y card sum = 2\n",
      "Date: 2020-01-21 19:30:00\n",
      "Score: Sheffield United 0 - 1 Manchester City\n",
      "y card sum = 7\n",
      "Date: 2020-01-21 19:30:00\n",
      "Score: Crystal Palace 0 - 2 Southampton\n",
      "y card sum = 3\n",
      "Date: 2020-01-21 20:15:00\n",
      "Score: Chelsea 2 - 2 Arsenal\n",
      "y card sum = 3\n",
      "Date: 2020-01-22 19:30:00\n",
      "Score: Leicester City 4 - 1 West Ham United\n",
      "y card sum = 2\n",
      "Date: 2020-01-22 19:30:00\n",
      "Score: Tottenham Hotspur 2 - 1 Norwich City\n",
      "y card sum = 1\n",
      "Date: 2020-01-22 20:15:00\n",
      "Score: Manchester United 0 - 2 Burnley\n",
      "y card sum = 2\n",
      "Date: 2020-01-23 20:00:00\n",
      "Score: Wolverhampton Wanderers 1 - 2 Liverpool\n",
      "y card sum = 1\n",
      "Date: 2020-01-29 19:45:00\n",
      "Score: West Ham United 0 - 2 Liverpool\n",
      "y card sum = 2\n",
      "Date: 2020-02-01 12:30:00\n",
      "Score: Leicester City 2 - 2 Chelsea\n",
      "y card sum = 4\n",
      "Date: 2020-02-01 15:00:00\n",
      "Score: AFC Bournemouth 2 - 1 Aston Villa\n",
      "y card sum = 5\n",
      "Date: 2020-02-01 15:00:00\n",
      "Score: Crystal Palace 0 - 1 Sheffield United\n",
      "y card sum = 5\n",
      "Date: 2020-02-01 15:00:00\n",
      "Score: Liverpool 4 - 0 Southampton\n",
      "y card sum = 2\n",
      "Date: 2020-02-01 15:00:00\n",
      "Score: Newcastle United 0 - 0 Norwich City\n",
      "y card sum = 3\n",
      "Date: 2020-02-01 15:00:00\n",
      "Score: Watford 2 - 3 Everton\n",
      "y card sum = 4\n",
      "Date: 2020-02-01 15:00:00\n",
      "Score: West Ham United 3 - 3 Brighton & Hove Albion\n",
      "y card sum = 2\n",
      "Date: 2020-02-01 17:30:00\n",
      "Score: Manchester United 0 - 0 Wolverhampton Wanderers\n",
      "y card sum = 5\n",
      "Getting data from page 6\n",
      "Date: 2019-12-29 16:30:00\n",
      "Score: Liverpool 1 - 0 Wolverhampton Wanderers\n",
      "y card sum = 1\n",
      "Date: 2019-12-29 18:00:00\n",
      "Score: Manchester City 2 - 0 Sheffield United\n",
      "y card sum = 2\n",
      "Date: 2020-01-01 12:30:00\n",
      "Score: Brighton & Hove Albion 1 - 1 Chelsea\n",
      "y card sum = 5\n",
      "Date: 2020-01-01 12:30:00\n",
      "Score: Burnley 1 - 2 Aston Villa\n",
      "y card sum = 2\n",
      "Date: 2020-01-01 15:00:00\n",
      "Score: Newcastle United 0 - 3 Leicester City\n",
      "y card sum = 2\n",
      "Date: 2020-01-01 15:00:00\n",
      "Score: Southampton 1 - 0 Tottenham Hotspur\n",
      "y card sum = 7\n",
      "Date: 2020-01-01 15:00:00\n",
      "Score: Watford 2 - 1 Wolverhampton Wanderers\n",
      "y card sum = 4\n",
      "Date: 2020-01-01 17:30:00\n",
      "Score: Manchester City 2 - 1 Everton\n",
      "y card sum = 4\n",
      "Date: 2020-01-01 17:30:00\n",
      "Score: Norwich City 1 - 1 Crystal Palace\n",
      "y card sum = 5\n",
      "Date: 2020-01-01 17:30:00\n",
      "Score: West Ham United 4 - 0 AFC Bournemouth\n",
      "y card sum = 3\n",
      "Date: 2020-01-01 20:00:00\n",
      "Score: Arsenal 2 - 0 Manchester United\n",
      "y card sum = 2\n",
      "Date: 2020-01-02 20:00:00\n",
      "Score: Liverpool 2 - 0 Sheffield United\n",
      "y card sum = 0\n",
      "Date: 2020-01-10 20:00:00\n",
      "Score: Sheffield United 1 - 0 West Ham United\n",
      "y card sum = 1\n",
      "Date: 2020-01-11 12:30:00\n",
      "Score: Crystal Palace 1 - 1 Arsenal\n",
      "y card sum = 5\n",
      "Date: 2020-01-11 15:00:00\n",
      "Score: Chelsea 3 - 0 Burnley\n",
      "y card sum = 2\n",
      "Date: 2020-01-11 15:00:00\n",
      "Score: Everton 1 - 0 Brighton & Hove Albion\n",
      "y card sum = 3\n",
      "Date: 2020-01-11 15:00:00\n",
      "Score: Leicester City 1 - 2 Southampton\n",
      "y card sum = 3\n",
      "Date: 2020-01-11 15:00:00\n",
      "Score: Manchester United 4 - 0 Norwich City\n",
      "y card sum = 0\n",
      "Date: 2020-01-11 15:00:00\n",
      "Score: Wolverhampton Wanderers 1 - 1 Newcastle United\n",
      "y card sum = 3\n",
      "Date: 2020-01-11 17:30:00\n",
      "Score: Tottenham Hotspur 0 - 1 Liverpool\n",
      "y card sum = 2\n",
      "Date: 2020-01-12 14:00:00\n",
      "Score: AFC Bournemouth 0 - 3 Watford\n",
      "y card sum = 2\n",
      "Date: 2020-01-12 16:30:00\n",
      "Score: Aston Villa 1 - 6 Manchester City\n",
      "y card sum = 3\n",
      "Date: 2020-01-18 12:30:00\n",
      "Score: Watford 0 - 0 Tottenham Hotspur\n",
      "y card sum = 5\n",
      "Date: 2020-01-18 15:00:00\n",
      "Score: Arsenal 1 - 1 Sheffield United\n",
      "y card sum = 3\n",
      "Date: 2020-01-18 15:00:00\n",
      "Score: Norwich City 1 - 0 AFC Bournemouth\n",
      "y card sum = 4\n",
      "Getting data from page 7\n",
      "Date: 2019-12-01 16:30:00\n",
      "Score: Leicester City 2 - 1 Everton\n",
      "y card sum = 1\n",
      "Date: 2019-12-01 16:30:00\n",
      "Score: Manchester United 2 - 2 Aston Villa\n",
      "y card sum = 5\n",
      "Date: 2019-12-03 19:30:00\n",
      "Score: Crystal Palace 1 - 0 AFC Bournemouth\n",
      "y card sum = 6\n",
      "Date: 2019-12-03 20:15:00\n",
      "Score: Burnley 1 - 4 Manchester City\n",
      "y card sum = 2\n",
      "Date: 2019-12-04 19:30:00\n",
      "Score: Leicester City 2 - 0 Watford\n",
      "y card sum = 5\n",
      "Date: 2019-12-04 19:30:00\n",
      "Score: Wolverhampton Wanderers 2 - 0 West Ham United\n",
      "y card sum = 3\n",
      "Date: 2019-12-04 19:30:00\n",
      "Score: Manchester United 2 - 1 Tottenham Hotspur\n",
      "y card sum = 1\n",
      "Date: 2019-12-04 19:30:00\n",
      "Score: Chelsea 2 - 1 Aston Villa\n",
      "y card sum = 3\n",
      "Date: 2019-12-04 19:30:00\n",
      "Score: Southampton 2 - 1 Norwich City\n",
      "y card sum = 2\n",
      "Date: 2019-12-04 20:15:00\n",
      "Score: Liverpool 5 - 2 Everton\n",
      "y card sum = 3\n",
      "Date: 2019-12-05 19:30:00\n",
      "Score: Sheffield United 0 - 2 Newcastle United\n",
      "y card sum = 2\n",
      "Date: 2019-12-05 20:15:00\n",
      "Score: Arsenal 1 - 2 Brighton & Hove Albion\n",
      "y card sum = 4\n",
      "Date: 2019-12-14 12:30:00\n",
      "Score: Liverpool 2 - 0 Watford\n",
      "y card sum = 3\n",
      "Date: 2019-12-14 15:00:00\n",
      "Score: Burnley 1 - 0 Newcastle United\n",
      "y card sum = 1\n",
      "Date: 2019-12-14 15:00:00\n",
      "Score: Chelsea 0 - 1 AFC Bournemouth\n",
      "y card sum = 3\n",
      "Date: 2019-12-14 15:00:00\n",
      "Score: Leicester City 1 - 1 Norwich City\n",
      "y card sum = 3\n",
      "Date: 2019-12-14 15:00:00\n",
      "Score: Sheffield United 2 - 0 Aston Villa\n",
      "y card sum = 3\n",
      "Date: 2019-12-14 17:30:00\n",
      "Score: Southampton 0 - 1 West Ham United\n",
      "y card sum = 4\n",
      "Date: 2019-12-15 14:00:00\n",
      "Score: Manchester United 1 - 1 Everton\n",
      "y card sum = 3\n",
      "Date: 2019-12-15 14:00:00\n",
      "Score: Wolverhampton Wanderers 1 - 2 Tottenham Hotspur\n",
      "y card sum = 8\n",
      "Date: 2019-12-15 16:30:00\n",
      "Score: Arsenal 0 - 3 Manchester City\n",
      "y card sum = 5\n",
      "Date: 2019-12-16 19:45:00\n",
      "Score: Crystal Palace 1 - 1 Brighton & Hove Albion\n",
      "y card sum = 2\n",
      "Date: 2019-12-28 17:30:00\n",
      "Score: Norwich City 2 - 2 Tottenham Hotspur\n",
      "y card sum = 6\n",
      "Date: 2019-12-28 17:30:00\n",
      "Score: West Ham United 1 - 2 Leicester City\n",
      "y card sum = 5\n",
      "Date: 2019-12-28 19:45:00\n",
      "Score: Burnley 0 - 2 Manchester United\n",
      "y card sum = 7\n",
      "Getting data from page 8\n",
      "Date: 2019-11-09 15:00:00\n",
      "Score: Burnley 3 - 0 West Ham United\n",
      "y card sum = 3\n",
      "Date: 2019-11-09 15:00:00\n",
      "Score: Newcastle United 2 - 1 AFC Bournemouth\n",
      "y card sum = 2\n",
      "Date: 2019-11-09 15:00:00\n",
      "Score: Southampton 1 - 2 Everton\n",
      "y card sum = 2\n",
      "Date: 2019-11-09 15:00:00\n",
      "Score: Tottenham Hotspur 1 - 1 Sheffield United\n",
      "y card sum = 4\n",
      "Date: 2019-11-09 17:30:00\n",
      "Score: Leicester City 2 - 0 Arsenal\n",
      "y card sum = 2\n",
      "Date: 2019-11-10 14:00:00\n",
      "Score: Manchester United 3 - 1 Brighton & Hove Albion\n",
      "y card sum = 7\n",
      "Date: 2019-11-10 14:00:00\n",
      "Score: Wolverhampton Wanderers 2 - 1 Aston Villa\n",
      "y card sum = 7\n",
      "Date: 2019-11-10 16:30:00\n",
      "Score: Liverpool 3 - 1 Manchester City\n",
      "y card sum = 1\n",
      "Date: 2019-11-23 12:30:00\n",
      "Score: West Ham United 2 - 3 Tottenham Hotspur\n",
      "y card sum = 5\n",
      "Date: 2019-11-23 15:00:00\n",
      "Score: AFC Bournemouth 1 - 2 Wolverhampton Wanderers\n",
      "y card sum = 4\n",
      "Date: 2019-11-23 15:00:00\n",
      "Score: Arsenal 2 - 2 Southampton\n",
      "y card sum = 4\n",
      "Date: 2019-11-23 15:00:00\n",
      "Score: Brighton & Hove Albion 0 - 2 Leicester City\n",
      "y card sum = 2\n",
      "Date: 2019-11-23 15:00:00\n",
      "Score: Crystal Palace 1 - 2 Liverpool\n",
      "y card sum = 1\n",
      "Date: 2019-11-23 15:00:00\n",
      "Score: Everton 0 - 2 Norwich City\n",
      "y card sum = 6\n",
      "Date: 2019-11-23 15:00:00\n",
      "Score: Watford 0 - 3 Burnley\n",
      "y card sum = 4\n",
      "Date: 2019-11-23 17:30:00\n",
      "Score: Manchester City 2 - 1 Chelsea\n",
      "y card sum = 2\n",
      "Date: 2019-11-24 16:30:00\n",
      "Score: Sheffield United 3 - 3 Manchester United\n",
      "y card sum = 3\n",
      "Date: 2019-11-25 20:00:00\n",
      "Score: Aston Villa 2 - 0 Newcastle United\n",
      "y card sum = 2\n",
      "Date: 2019-11-30 12:30:00\n",
      "Score: Newcastle United 2 - 2 Manchester City\n",
      "y card sum = 3\n",
      "Date: 2019-11-30 15:00:00\n",
      "Score: Burnley 0 - 2 Crystal Palace\n",
      "y card sum = 1\n",
      "Date: 2019-11-30 15:00:00\n",
      "Score: Chelsea 0 - 1 West Ham United\n",
      "y card sum = 3\n",
      "Date: 2019-11-30 15:00:00\n",
      "Score: Liverpool 2 - 1 Brighton & Hove Albion\n",
      "y card sum = 0\n",
      "Date: 2019-11-30 15:00:00\n",
      "Score: Tottenham Hotspur 3 - 2 AFC Bournemouth\n",
      "y card sum = 2\n",
      "Date: 2019-11-30 17:30:00\n",
      "Score: Southampton 2 - 1 Watford\n",
      "y card sum = 1\n",
      "Date: 2019-12-01 14:00:00\n",
      "Score: Norwich City 2 - 2 Arsenal\n",
      "y card sum = 3\n",
      "Getting data from page 9\n"
     ]
    },
    {
     "name": "stdout",
     "output_type": "stream",
     "text": [
      "Date: 2019-10-06 13:00:00\n",
      "Score: Manchester City 0 - 2 Wolverhampton Wanderers\n",
      "y card sum = 7\n",
      "Date: 2019-10-06 15:30:00\n",
      "Score: Newcastle United 1 - 0 Manchester United\n",
      "y card sum = 6\n",
      "Date: 2019-10-20 15:30:00\n",
      "Score: Manchester United 1 - 1 Liverpool\n",
      "y card sum = 1\n",
      "Date: 2019-10-21 19:00:00\n",
      "Score: Sheffield United 1 - 0 Arsenal\n",
      "y card sum = 8\n",
      "Date: 2019-10-25 19:00:00\n",
      "Score: Southampton 0 - 9 Leicester City\n",
      "y card sum = 0\n",
      "Date: 2019-10-26 11:30:00\n",
      "Score: Manchester City 3 - 0 Aston Villa\n",
      "y card sum = 3\n",
      "Date: 2019-10-26 14:00:00\n",
      "Score: Brighton & Hove Albion 3 - 2 Everton\n",
      "y card sum = 3\n",
      "Date: 2019-10-26 14:00:00\n",
      "Score: Watford 0 - 0 AFC Bournemouth\n",
      "y card sum = 8\n",
      "Date: 2019-10-26 14:00:00\n",
      "Score: West Ham United 1 - 1 Sheffield United\n",
      "y card sum = 4\n",
      "Date: 2019-10-26 16:30:00\n",
      "Score: Burnley 2 - 4 Chelsea\n",
      "y card sum = 5\n",
      "Date: 2019-10-27 14:00:00\n",
      "Score: Newcastle United 1 - 1 Wolverhampton Wanderers\n",
      "y card sum = 3\n",
      "Date: 2019-10-27 16:30:00\n",
      "Score: Arsenal 2 - 2 Crystal Palace\n",
      "y card sum = 2\n",
      "Date: 2019-10-27 16:30:00\n",
      "Score: Liverpool 2 - 1 Tottenham Hotspur\n",
      "y card sum = 6\n",
      "Date: 2019-10-27 16:30:00\n",
      "Score: Norwich City 1 - 3 Manchester United\n",
      "y card sum = 4\n",
      "Date: 2019-11-02 12:30:00\n",
      "Score: AFC Bournemouth 1 - 0 Manchester United\n",
      "y card sum = 7\n",
      "Date: 2019-11-02 15:00:00\n",
      "Score: Arsenal 1 - 1 Wolverhampton Wanderers\n",
      "y card sum = 2\n",
      "Date: 2019-11-02 15:00:00\n",
      "Score: Aston Villa 1 - 2 Liverpool\n",
      "y card sum = 2\n",
      "Date: 2019-11-02 15:00:00\n",
      "Score: Brighton & Hove Albion 2 - 0 Norwich City\n",
      "y card sum = 0\n",
      "Date: 2019-11-02 15:00:00\n",
      "Score: Manchester City 2 - 1 Southampton\n",
      "y card sum = 4\n",
      "Date: 2019-11-02 15:00:00\n",
      "Score: Sheffield United 3 - 0 Burnley\n",
      "y card sum = 3\n",
      "Date: 2019-11-02 15:00:00\n",
      "Score: West Ham United 2 - 3 Newcastle United\n",
      "y card sum = 3\n",
      "Date: 2019-11-02 17:30:00\n",
      "Score: Watford 1 - 2 Chelsea\n",
      "y card sum = 6\n",
      "Date: 2019-11-03 14:00:00\n",
      "Score: Crystal Palace 0 - 2 Leicester City\n",
      "y card sum = 4\n",
      "Date: 2019-11-03 16:30:00\n",
      "Score: Everton 1 - 1 Tottenham Hotspur\n",
      "y card sum = 3\n",
      "Date: 2019-11-08 20:00:00\n",
      "Score: Norwich City 0 - 2 Watford\n",
      "y card sum = 4\n"
     ]
    }
   ],
   "source": [
    "fixtureData = getFixturesfromSeasonID(season_id)"
   ]
  },
  {
   "cell_type": "code",
   "execution_count": 461,
   "metadata": {},
   "outputs": [
    {
     "data": {
      "text/html": [
       "<div>\n",
       "<style scoped>\n",
       "    .dataframe tbody tr th:only-of-type {\n",
       "        vertical-align: middle;\n",
       "    }\n",
       "\n",
       "    .dataframe tbody tr th {\n",
       "        vertical-align: top;\n",
       "    }\n",
       "\n",
       "    .dataframe thead th {\n",
       "        text-align: right;\n",
       "    }\n",
       "</style>\n",
       "<table border=\"1\" class=\"dataframe\">\n",
       "  <thead>\n",
       "    <tr style=\"text-align: right;\">\n",
       "      <th></th>\n",
       "      <th>Date</th>\n",
       "      <th>Home Team</th>\n",
       "      <th>Away Team</th>\n",
       "      <th>Away Goals</th>\n",
       "      <th>Home Goals</th>\n",
       "      <th>Yellow cards</th>\n",
       "    </tr>\n",
       "  </thead>\n",
       "  <tbody>\n",
       "    <tr>\n",
       "      <th>220</th>\n",
       "      <td>2019-11-02 15:00:00</td>\n",
       "      <td>West Ham United</td>\n",
       "      <td>Newcastle United</td>\n",
       "      <td>2</td>\n",
       "      <td>3</td>\n",
       "      <td>3</td>\n",
       "    </tr>\n",
       "    <tr>\n",
       "      <th>221</th>\n",
       "      <td>2019-11-02 17:30:00</td>\n",
       "      <td>Watford</td>\n",
       "      <td>Chelsea</td>\n",
       "      <td>1</td>\n",
       "      <td>2</td>\n",
       "      <td>6</td>\n",
       "    </tr>\n",
       "    <tr>\n",
       "      <th>222</th>\n",
       "      <td>2019-11-03 14:00:00</td>\n",
       "      <td>Crystal Palace</td>\n",
       "      <td>Leicester City</td>\n",
       "      <td>0</td>\n",
       "      <td>2</td>\n",
       "      <td>4</td>\n",
       "    </tr>\n",
       "    <tr>\n",
       "      <th>223</th>\n",
       "      <td>2019-11-03 16:30:00</td>\n",
       "      <td>Everton</td>\n",
       "      <td>Tottenham Hotspur</td>\n",
       "      <td>1</td>\n",
       "      <td>1</td>\n",
       "      <td>3</td>\n",
       "    </tr>\n",
       "    <tr>\n",
       "      <th>224</th>\n",
       "      <td>2019-11-08 20:00:00</td>\n",
       "      <td>Norwich City</td>\n",
       "      <td>Watford</td>\n",
       "      <td>0</td>\n",
       "      <td>2</td>\n",
       "      <td>4</td>\n",
       "    </tr>\n",
       "  </tbody>\n",
       "</table>\n",
       "</div>"
      ],
      "text/plain": [
       "                   Date        Home Team          Away Team  Away Goals  \\\n",
       "220 2019-11-02 15:00:00  West Ham United   Newcastle United           2   \n",
       "221 2019-11-02 17:30:00          Watford            Chelsea           1   \n",
       "222 2019-11-03 14:00:00   Crystal Palace     Leicester City           0   \n",
       "223 2019-11-03 16:30:00          Everton  Tottenham Hotspur           1   \n",
       "224 2019-11-08 20:00:00     Norwich City            Watford           0   \n",
       "\n",
       "     Home Goals  Yellow cards  \n",
       "220           3             3  \n",
       "221           2             6  \n",
       "222           2             4  \n",
       "223           1             3  \n",
       "224           2             4  "
      ]
     },
     "execution_count": 461,
     "metadata": {},
     "output_type": "execute_result"
    }
   ],
   "source": [
    "#Reading in fixture data to dataframe\n",
    "columns = ['Date', 'Home Team', 'Away Team', 'Away Goals', 'Home Goals', 'Yellow cards']\n",
    "fixture_df = pd.DataFrame(data=fixtureData, columns = columns)\n",
    "fixture_df.tail()"
   ]
  },
  {
   "cell_type": "code",
   "execution_count": 462,
   "metadata": {},
   "outputs": [
    {
     "data": {
      "text/plain": [
       "pandas._libs.tslibs.timestamps.Timestamp"
      ]
     },
     "execution_count": 462,
     "metadata": {},
     "output_type": "execute_result"
    }
   ],
   "source": [
    "type(fixture_df.Date[0])"
   ]
  },
  {
   "cell_type": "code",
   "execution_count": 790,
   "metadata": {},
   "outputs": [],
   "source": [
    "def split_data_by_date(df, date):\n",
    "    date = datetime.strptime(date, '%Y-%m-%d')\n",
    "    df1 = df[(df['Date'] > date) & (df['Yellow cards'] < 7)]\n",
    "    df2 = df[(df['Date'] < date) & (df['Yellow cards'] < 7)]\n",
    "    \n",
    "#     df1 = df.sample(int(1 * len(df)), replace = False)\n",
    "#     df2 = df.sample(int(1 * len(df)), replace = False)\n",
    "    \n",
    "    print(f\"Fixtures after {date} =  {len(df1)}\")\n",
    "    print(f\"Fixtures before {date} =  {len(df2)}\")\n",
    "    \n",
    "    return df1, df2\n",
    "    "
   ]
  },
  {
   "cell_type": "code",
   "execution_count": 791,
   "metadata": {},
   "outputs": [
    {
     "name": "stdout",
     "output_type": "stream",
     "text": [
      "Fixtures after 2020-05-01 00:00:00 =  61\n",
      "Fixtures before 2020-05-01 00:00:00 =  147\n"
     ]
    }
   ],
   "source": [
    "fixture_df_AC, fixture_df_BC = split_data_by_date(fixture_df, '2020-05-01')"
   ]
  },
  {
   "cell_type": "code",
   "execution_count": 792,
   "metadata": {},
   "outputs": [
    {
     "data": {
      "text/plain": [
       "<matplotlib.legend.Legend at 0x189bf4b2da0>"
      ]
     },
     "execution_count": 792,
     "metadata": {},
     "output_type": "execute_result"
    },
    {
     "data": {
      "image/png": "[encoded data removed]",
      "text/plain": [
       "<Figure size 432x288 with 1 Axes>"
      ]
     },
     "metadata": {},
     "output_type": "display_data"
    }
   ],
   "source": [
    "fixture_df_AC['Yellow cards'].plot.hist(alpha=0.5, color='green')\n",
    "fixture_df_BC['Yellow cards'].plot.hist(alpha=0.5, color='blue')\n",
    "plt.axvline(fixture_df_AC['Yellow cards'].mean(), color='green')\n",
    "plt.axvline(fixture_df_BC['Yellow cards'].mean(), color='blue')\n",
    "plt.legend()\n",
    "plt.xlabel(\"Yellow Cards per game\")"
   ]
  },
  {
   "cell_type": "code",
   "execution_count": 819,
   "metadata": {},
   "outputs": [
    {
     "name": "stdout",
     "output_type": "stream",
     "text": [
      "Average yellow cards per game has changed by -0.186\n"
     ]
    },
    {
     "data": {
      "image/png": "[encoded data removed]",
      "text/plain": [
       "<Figure size 432x288 with 1 Axes>"
      ]
     },
     "metadata": {},
     "output_type": "display_data"
    }
   ],
   "source": [
    "bootstrapped_fixtures_fixture_df_AC_yellow_cards = pd.DataFrame({'Mean Yellow cards' : [fixture_df_AC['Yellow cards'].sample(len(bootstrapped_fixtures_fixture_df_AC_yellow_cards), replace=True).mean() for i in range(100)]})\n",
    "bootstrapped_fixtures_fixture_df_BC_yellow_cards = pd.DataFrame({'Mean Yellow cards' : [fixture_df_BC['Yellow cards'].sample(len(bootstrapped_fixtures_fixture_df_BC_yellow_cards), replace=True).mean() for i in range(100)]})\n",
    "bootstrapped_fixtures_fixture_df_AC_yellow_cards['Mean Yellow cards'].plot.hist(alpha=0.5, color='green', label= \"AC\")\n",
    "bootstrapped_fixtures_fixture_df_BC_yellow_cards['Mean Yellow cards'].plot.hist(alpha=0.5, color='blue', label= \"BC\")\n",
    "plt.axvline(fixture_df_AC['Yellow cards'].mean(), color='green')\n",
    "plt.axvline(fixture_df_BC['Yellow cards'].mean(), color='blue')\n",
    "plt.legend()\n",
    "plt.xlabel(\"Mean yellow Cards per game\")\n",
    "print(\"Average yellow cards per game has changed by {:.3f}\".format(fixture_df_AC['Yellow cards'].mean() - fixture_df_BC['Yellow cards'].mean()))"
   ]
  },
  {
   "cell_type": "code",
   "execution_count": 803,
   "metadata": {},
   "outputs": [
    {
     "name": "stdout",
     "output_type": "stream",
     "text": [
      "Means: 2.7916000000000003, 2.9900999999999986\n",
      "Stds: 0.16592392074305465, 0.1343784419338372\n",
      "Counts: 100, 100\n",
      "Std errors: 0.016592392074305466, 0.01343784419338372\n",
      "t_stat is -9.296805599999612\n",
      "Number of deg_f are 198\n",
      "Critical value is 1.6525857836172075\n",
      "p value is 0.00000\n",
      "Statistically significant difference, can reject null hypothesis\n",
      "Statistically significant difference, can reject null hypothesis\n"
     ]
    },
    {
     "data": {
      "text/plain": [
       "Ttest_indResult(statistic=-9.296805599999736, pvalue=2.710639678335421e-17)"
      ]
     },
     "execution_count": 803,
     "metadata": {},
     "output_type": "execute_result"
    }
   ],
   "source": [
    "calculate_t_statistic(bootstrapped_fixtures_fixture_df_AC_yellow_cards['Mean Yellow cards'], bootstrapped_fixtures_fixture_df_BC_yellow_cards['Mean Yellow cards'])\n",
    "scipy.stats.ttest_ind(bootstrapped_fixtures_fixture_df_AC_yellow_cards['Mean Yellow cards'], bootstrapped_fixtures_fixture_df_BC_yellow_cards['Mean Yellow cards'])"
   ]
  },
  {
   "cell_type": "code",
   "execution_count": 804,
   "metadata": {
    "collapsed": true
   },
   "outputs": [],
   "source": [
    "#Adding in sum of goals column\n",
    "fixture_df['Sum Goals'] = fixture_df['Away Goals'] + fixture_df['Home Goals']"
   ]
  },
  {
   "cell_type": "code",
   "execution_count": 827,
   "metadata": {},
   "outputs": [
    {
     "name": "stdout",
     "output_type": "stream",
     "text": [
      "Fixtures after 2020-05-01 00:00:00 =  61\n",
      "Fixtures before 2020-05-01 00:00:00 =  147\n"
     ]
    }
   ],
   "source": [
    "fixture_df_AC, fixture_df_BC = split_data_by_date(fixture_df, '2020-05-01')\n",
    "bootstrapped_fixtures_fixture_df_AC_goals = pd.DataFrame({'Mean Goals' : [fixture_df_AC['Sum Goals'].sample(len(fixture_df_AC['Sum Goals']), replace=True).mean() for i in range(100000)]})\n",
    "bootstrapped_fixtures_fixture_df_BC_goals = pd.DataFrame({'Mean Goals' : [fixture_df_BC['Sum Goals'].sample(len(fixture_df_BC['Sum Goals']), replace=True).mean() for i in range(100000)]})"
   ]
  },
  {
   "cell_type": "code",
   "execution_count": 828,
   "metadata": {},
   "outputs": [
    {
     "name": "stdout",
     "output_type": "stream",
     "text": [
      "Average goals per game has changed by -0.210\n"
     ]
    },
    {
     "data": {
      "image/png": "[encoded data removed]",
      "text/plain": [
       "<Figure size 432x288 with 1 Axes>"
      ]
     },
     "metadata": {},
     "output_type": "display_data"
    }
   ],
   "source": [
    "bootstrapped_fixtures_fixture_df_AC_goals['Mean Goals'].plot.hist(alpha=0.5, color='green', label= \"AC\")\n",
    "bootstrapped_fixtures_fixture_df_BC_goals['Mean Goals'].plot.hist(alpha=0.5, color='blue', label= \"BC\")\n",
    "plt.axvline(fixture_df_AC['Sum Goals'].mean(), color='green')\n",
    "plt.axvline(fixture_df_BC['Sum Goals'].mean(), color='blue')\n",
    "plt.legend()\n",
    "plt.xlabel(\"Goals per game\")\n",
    "print(\"Average goals per game has changed by {:.3f}\".format(fixture_df_AC['Sum Goals'].mean() - fixture_df_BC['Sum Goals'].mean()))"
   ]
  },
  {
   "cell_type": "code",
   "execution_count": 829,
   "metadata": {},
   "outputs": [
    {
     "name": "stdout",
     "output_type": "stream",
     "text": [
      "Means: 2.606176721311338, 2.816404489795798\n",
      "Stds: 0.1784059317358368, 0.12276507300706253\n",
      "Counts: 100000, 100000\n",
      "Std errors: 0.0005641690923697616, 0.00038821724781917393\n",
      "t_stat is -306.9756577308746\n",
      "Number of deg_f are 199998\n",
      "Critical value is 1.6448612459089054\n",
      "p value is 0.00000\n",
      "Statistically significant difference, can reject null hypothesis\n",
      "Statistically significant difference, can reject null hypothesis\n"
     ]
    },
    {
     "data": {
      "text/plain": [
       "Ttest_indResult(statistic=-306.97565773081556, pvalue=0.0)"
      ]
     },
     "execution_count": 829,
     "metadata": {},
     "output_type": "execute_result"
    }
   ],
   "source": [
    "calculate_t_statistic(bootstrapped_fixtures_fixture_df_AC_goals['Mean Goals'], bootstrapped_fixtures_fixture_df_BC_goals['Mean Goals'])\n",
    "scipy.stats.ttest_ind(bootstrapped_fixtures_fixture_df_AC_goals['Mean Goals'], bootstrapped_fixtures_fixture_df_BC_goals['Mean Goals'])"
   ]
  },
  {
   "cell_type": "code",
   "execution_count": 830,
   "metadata": {},
   "outputs": [],
   "source": [
    "#Testing for home and away goals\n",
    "bootstrapped_fixtures_fixture_df_AC_home_goals = pd.DataFrame({'Mean Home Goals' : [fixture_df_AC['Home Goals'].sample(len(fixture_df_AC), replace=True).mean() for i in range(1000)]})\n",
    "bootstrapped_fixtures_fixture_df_BC_home_goals = pd.DataFrame({'Mean Home Goals' : [fixture_df_BC['Home Goals'].sample(len(fixture_df_AC), replace=True).mean() for i in range(1000)]})"
   ]
  },
  {
   "cell_type": "code",
   "execution_count": 831,
   "metadata": {},
   "outputs": [
    {
     "data": {
      "text/plain": [
       "Text(0.5, 0, 'Home Goals per game')"
      ]
     },
     "execution_count": 831,
     "metadata": {},
     "output_type": "execute_result"
    },
    {
     "data": {
      "image/png": "[encoded data removed]",
      "text/plain": [
       "<Figure size 432x288 with 1 Axes>"
      ]
     },
     "metadata": {},
     "output_type": "display_data"
    }
   ],
   "source": [
    "bootstrapped_fixtures_fixture_df_AC_home_goals['Mean Home Goals'].plot.hist(alpha=0.5, color='green', label= \"AC\")\n",
    "bootstrapped_fixtures_fixture_df_BC_home_goals['Mean Home Goals'].plot.hist(alpha=0.5, color='blue', label= \"BC\")\n",
    "plt.axvline(fixture_df_AC['Home Goals'].mean(), color='green')\n",
    "plt.axvline(fixture_df_BC['Home Goals'].mean(), color='blue')\n",
    "plt.legend()\n",
    "plt.xlabel(\"Home Goals per game\")"
   ]
  },
  {
   "cell_type": "code",
   "execution_count": 832,
   "metadata": {},
   "outputs": [
    {
     "name": "stdout",
     "output_type": "stream",
     "text": [
      "Means: 2.606176721311338, 2.816404489795798\n",
      "Stds: 0.1784059317358368, 0.12276507300706253\n",
      "Counts: 100000, 100000\n",
      "Std errors: 0.0005641690923697616, 0.00038821724781917393\n",
      "t_stat is -306.9756577308746\n",
      "Number of deg_f are 199998\n",
      "Critical value is 1.6448612459089054\n",
      "p value is 0.00000\n",
      "Statistically significant difference, can reject null hypothesis\n",
      "Statistically significant difference, can reject null hypothesis\n"
     ]
    },
    {
     "data": {
      "text/plain": [
       "Ttest_indResult(statistic=-306.97565773081556, pvalue=0.0)"
      ]
     },
     "execution_count": 832,
     "metadata": {},
     "output_type": "execute_result"
    }
   ],
   "source": [
    "calculate_t_statistic(bootstrapped_fixtures_fixture_df_AC_goals['Mean Goals'], bootstrapped_fixtures_fixture_df_BC_goals['Mean Goals'])\n",
    "scipy.stats.ttest_ind(bootstrapped_fixtures_fixture_df_AC_goals['Mean Goals'], bootstrapped_fixtures_fixture_df_BC_goals['Mean Goals'])"
   ]
  },
  {
   "cell_type": "code",
   "execution_count": 833,
   "metadata": {
    "collapsed": true
   },
   "outputs": [],
   "source": [
    "bootstrapped_fixtures_fixture_df_AC_away_goals = pd.DataFrame({'Mean Away Goals' : [fixture_df_AC['Away Goals'].sample(len(fixture_df_AC), replace=True).mean() for i in range(1000)]})\n",
    "bootstrapped_fixtures_fixture_df_BC_away_goals = pd.DataFrame({'Mean Away Goals' : [fixture_df_BC['Away Goals'].sample(len(fixture_df_AC), replace=True).mean() for i in range(1000)]})"
   ]
  },
  {
   "cell_type": "code",
   "execution_count": 834,
   "metadata": {},
   "outputs": [
    {
     "data": {
      "text/plain": [
       "Text(0.5, 0, 'Away Goals per game')"
      ]
     },
     "execution_count": 834,
     "metadata": {},
     "output_type": "execute_result"
    },
    {
     "data": {
      "image/png": "[encoded data removed]",
      "text/plain": [
       "<Figure size 432x288 with 1 Axes>"
      ]
     },
     "metadata": {},
     "output_type": "display_data"
    }
   ],
   "source": [
    "bootstrapped_fixtures_fixture_df_AC_away_goals['Mean Away Goals'].plot.hist(alpha=0.5, color='green', label= \"AC\")\n",
    "bootstrapped_fixtures_fixture_df_BC_away_goals['Mean Away Goals'].plot.hist(alpha=0.5, color='blue', label= \"BC\")\n",
    "plt.axvline(fixture_df_AC['Away Goals'].mean(), color='green')\n",
    "plt.axvline(fixture_df_BC['Away Goals'].mean(), color='blue')\n",
    "plt.legend()\n",
    "plt.xlabel(\"Away Goals per game\")"
   ]
  },
  {
   "cell_type": "code",
   "execution_count": 835,
   "metadata": {},
   "outputs": [
    {
     "name": "stdout",
     "output_type": "stream",
     "text": [
      "Means: 1.4484426229508196, 1.5617868852459027\n",
      "Stds: 0.16533068154802863, 0.14189142958421752\n",
      "Counts: 1000, 1000\n",
      "Std errors: 0.005228215207997434, 0.004487000979435257\n",
      "t_stat is -16.45135837119215\n",
      "Number of deg_f are 1998\n",
      "Critical value is 1.6456166300576656\n",
      "p value is 0.00000\n",
      "Statistically significant difference, can reject null hypothesis\n",
      "Statistically significant difference, can reject null hypothesis\n"
     ]
    },
    {
     "data": {
      "text/plain": [
       "Ttest_indResult(statistic=-16.451358371191986, pvalue=3.9388960886814423e-57)"
      ]
     },
     "execution_count": 835,
     "metadata": {},
     "output_type": "execute_result"
    }
   ],
   "source": [
    "calculate_t_statistic(bootstrapped_fixtures_fixture_df_AC_away_goals['Mean Away Goals'], bootstrapped_fixtures_fixture_df_BC_away_goals['Mean Away Goals'])\n",
    "scipy.stats.ttest_ind(bootstrapped_fixtures_fixture_df_AC_away_goals['Mean Away Goals'], bootstrapped_fixtures_fixture_df_BC_away_goals['Mean Away Goals'])"
   ]
  },
  {
   "cell_type": "code",
   "execution_count": 273,
   "metadata": {},
   "outputs": [
    {
     "data": {
      "text/plain": [
       "<matplotlib.legend.Legend at 0x189a78c22e8>"
      ]
     },
     "execution_count": 273,
     "metadata": {},
     "output_type": "execute_result"
    },
    {
     "data": {
      "image/png": "[encoded data removed]",
      "text/plain": [
       "<Figure size 432x288 with 1 Axes>"
      ]
     },
     "metadata": {},
     "output_type": "display_data"
    }
   ],
   "source": [
    "fixture_df['Home Goals'].plot.hist()\n",
    "fixture_df['Away Goals'].plot.hist()\n",
    "plt.legend()"
   ]
  },
  {
   "cell_type": "code",
   "execution_count": 272,
   "metadata": {},
   "outputs": [
    {
     "data": {
      "text/plain": [
       "50"
      ]
     },
     "execution_count": 272,
     "metadata": {},
     "output_type": "execute_result"
    }
   ],
   "source": [
    "len(fixture_df)"
   ]
  },
  {
   "cell_type": "code",
   "execution_count": 282,
   "metadata": {},
   "outputs": [
    {
     "name": "stdout",
     "output_type": "stream",
     "text": [
      "0     1\n",
      "1     4\n",
      "2     2\n",
      "3     2\n",
      "4     0\n",
      "5     2\n",
      "6     2\n",
      "7     1\n",
      "8     1\n",
      "9     0\n",
      "10    5\n",
      "11    1\n",
      "12    0\n",
      "13    0\n",
      "14    1\n",
      "15    3\n",
      "16    3\n",
      "17    2\n",
      "18    6\n",
      "19    4\n",
      "20    0\n",
      "21    3\n",
      "22    4\n",
      "23    1\n",
      "24    0\n",
      "25    3\n",
      "26    2\n",
      "27    2\n",
      "28    7\n",
      "29    2\n",
      "30    0\n",
      "31    2\n",
      "32    3\n",
      "33    0\n",
      "34    5\n",
      "35    7\n",
      "36    1\n",
      "37    3\n",
      "38    2\n",
      "39    2\n",
      "40    2\n",
      "41    8\n",
      "42    3\n",
      "43    3\n",
      "44    3\n",
      "45    4\n",
      "46    3\n",
      "47    0\n",
      "48    4\n",
      "49    2\n",
      "Name: Sum Goals, dtype: int64\n",
      "2.42\n"
     ]
    },
    {
     "data": {
      "image/png": "[encoded data removed]",
      "text/plain": [
       "<Figure size 432x288 with 1 Axes>"
      ]
     },
     "metadata": {},
     "output_type": "display_data"
    }
   ],
   "source": [
    "#Adding in sum of goals column\n",
    "fixture_df['Sum Goals'] = fixture_df['Away Goals'] + fixture_df['Home Goals']\n",
    "fixture_df['Sum Goals'].plot.hist()\n",
    "print(fixture_df['Sum Goals'])\n",
    "print(fixture_df['Sum Goals'].mean())"
   ]
  },
  {
   "cell_type": "code",
   "execution_count": 283,
   "metadata": {},
   "outputs": [
    {
     "data": {
      "text/plain": [
       "2    0.26\n",
       "3    0.20\n",
       "0    0.18\n",
       "1    0.14\n",
       "4    0.10\n",
       "7    0.04\n",
       "5    0.04\n",
       "8    0.02\n",
       "6    0.02\n",
       "Name: Sum Goals, dtype: float64"
      ]
     },
     "execution_count": 283,
     "metadata": {},
     "output_type": "execute_result"
    }
   ],
   "source": [
    "#Attempting bootstrapping goals to try to get normal distribution\n",
    "fixture_df['Sum Goals'].value_counts(normalize=True)"
   ]
  },
  {
   "cell_type": "code",
   "execution_count": 301,
   "metadata": {},
   "outputs": [],
   "source": [
    "#Sample with replacement\n",
    "bootstrapped_fixtures_df = pd.DataFrame({'Mean Goals' : [fixture_df['Sum Goals'].sample(25, replace=True).mean() for i in range(10000)]})"
   ]
  },
  {
   "cell_type": "code",
   "execution_count": 304,
   "metadata": {},
   "outputs": [
    {
     "data": {
      "text/plain": [
       "<matplotlib.lines.Line2D at 0x189a7d8fbe0>"
      ]
     },
     "execution_count": 304,
     "metadata": {},
     "output_type": "execute_result"
    },
    {
     "data": {
      "image/png": "[encoded data removed]",
      "text/plain": [
       "<Figure size 432x288 with 1 Axes>"
      ]
     },
     "metadata": {},
     "output_type": "display_data"
    }
   ],
   "source": [
    "bootstrapped_fixtures_df.plot.hist()\n",
    "plt.axvline(fixture_df['Sum Goals'].mean(), color='green')"
   ]
  },
  {
   "cell_type": "code",
   "execution_count": 305,
   "metadata": {},
   "outputs": [
    {
     "data": {
      "text/plain": [
       "<matplotlib.lines.Line2D at 0x189a7c4b278>"
      ]
     },
     "execution_count": 305,
     "metadata": {},
     "output_type": "execute_result"
    },
    {
     "data": {
      "image/png": "[encoded data removed]",
      "text/plain": [
       "<Figure size 432x288 with 1 Axes>"
      ]
     },
     "metadata": {},
     "output_type": "display_data"
    }
   ],
   "source": [
    "bootstrapped_fixtures_df_1 = pd.DataFrame({'Mean Goals' : [fixture_df['Sum Goals'].sample(25, replace=True).mean() for i in range(100)]})\n",
    "bootstrapped_fixtures_df_1.plot.hist()\n",
    "plt.axvline(fixture_df['Sum Goals'].mean(), color='green')"
   ]
  },
  {
   "cell_type": "code",
   "execution_count": 391,
   "metadata": {},
   "outputs": [
    {
     "data": {
      "text/plain": [
       "<matplotlib.lines.Line2D at 0x189b5e7ee80>"
      ]
     },
     "execution_count": 391,
     "metadata": {},
     "output_type": "execute_result"
    },
    {
     "data": {
      "image/png": "[encoded data removed]",
      "text/plain": [
       "<Figure size 432x288 with 1 Axes>"
      ]
     },
     "metadata": {},
     "output_type": "display_data"
    }
   ],
   "source": [
    "bootstrapped_fixtures_df_2 = pd.DataFrame({'Mean Goals' : [fixture_df['Sum Goals'].sample(25, replace=True).mean()+0.2 for i in range(100)]})\n",
    "bootstrapped_fixtures_df_2.plot.hist()\n",
    "plt.axvline(fixture_df['Sum Goals'].mean(), color='green')"
   ]
  },
  {
   "cell_type": "code",
   "execution_count": 412,
   "metadata": {},
   "outputs": [],
   "source": [
    "def calculate_t_statistic(data1, data2, alpha = 0.05):\n",
    "    #Calculate t-test\n",
    "    mean1, mean2 = data1.mean(), data2.mean()\n",
    "    print(f\"Means: {mean1}, {mean2}\")\n",
    "    std1, std2 = data1.std(), data2.std()\n",
    "    print(f\"Stds: {std1}, {std2}\")\n",
    "    N1, N2 = len(data1), len(data2)\n",
    "    print(f\"Counts: {N1}, {N2}\")\n",
    "    std_err_1, std_err_2 = std1/np.sqrt(N1), std2/np.sqrt(N2)\n",
    "    print(f\"Std errors: {std_err_1}, {std_err_2}\")\n",
    "    t_stat = (mean1 - mean2)/np.sqrt(std_err_1 * std_err_1 + std_err_2 * std_err_2)\n",
    "    print(f\"t_stat is {t_stat}\")\n",
    "    \n",
    "    #degrees of freedom\n",
    "    deg_f = N1 + N2 - 2\n",
    "    print(f\"Number of deg_f are {deg_f}\")\n",
    "    \n",
    "    #Calculating the critical value\n",
    "    crit_val = t.ppf(1.0 - alpha, deg_f)\n",
    "    print(f\"Critical value is {crit_val}\")\n",
    "    \n",
    "    p_val = (1.0 - t.cdf(abs(t_stat), df = deg_f)) * 2.0\n",
    "    print(f\"p value is {p_val:.5f}\")\n",
    "    \n",
    "    if(p_val < alpha):\n",
    "        print(\"Statistically significant difference, can reject null hypothesis\")\n",
    "    else:\n",
    "        print(\"No statistically significant difference, cannot reject null hypothesis\")\n",
    "        \n",
    "    if(crit_val < abs(t_stat)):\n",
    "        print(\"Statistically significant difference, can reject null hypothesis\")\n",
    "    else:\n",
    "        print(\"No statistically significant difference, cannot reject null hypothesis\")\n",
    "        "
   ]
  },
  {
   "cell_type": "code",
   "execution_count": 413,
   "metadata": {},
   "outputs": [
    {
     "name": "stdout",
     "output_type": "stream",
     "text": [
      "Means: 2.4316000000000013, 2.603199999999999\n",
      "Stds: 0.3593617237336894, 0.377495414381139\n",
      "Counts: 100, 100\n",
      "Std errors: 0.03593617237336894, 0.0377495414381139\n",
      "t_stat is -3.2924373196038745\n",
      "Number of deg_f are 198\n",
      "Critical value is 1.6525857836172075\n",
      "p value is 0.00118\n",
      "Statistically significant difference, can reject null hypothesis\n",
      "Statistically significant difference, can reject null hypothesis\n"
     ]
    }
   ],
   "source": [
    "calculate_t_statistic(bootstrapped_fixtures_df_1['Mean Goals'], bootstrapped_fixtures_df_2['Mean Goals'])"
   ]
  },
  {
   "cell_type": "code",
   "execution_count": 414,
   "metadata": {},
   "outputs": [
    {
     "data": {
      "text/plain": [
       "Ttest_indResult(statistic=-3.2924373196039425, pvalue=0.001176232992571106)"
      ]
     },
     "execution_count": 414,
     "metadata": {},
     "output_type": "execute_result"
    }
   ],
   "source": [
    "#Validating calculations using scipy stats t-test\n",
    "scipy.stats.ttest_ind(bootstrapped_fixtures_df_1['Mean Goals'], bootstrapped_fixtures_df_2['Mean Goals'])"
   ]
  },
  {
   "cell_type": "code",
   "execution_count": 411,
   "metadata": {},
   "outputs": [
    {
     "name": "stdout",
     "output_type": "stream",
     "text": [
      "Means: 39.714285714285715, 57.333333333333336\n",
      "Stds: 7.90504876128967, 11.527744310527055\n",
      "Counts: 7, 6\n",
      "Std errors: 2.9878275891730945, 4.706181907677194\n",
      "t_stat is -3.160639991435542\n",
      "Number of deg_f are 11\n",
      "Critical value is 1.7958848187036691\n",
      "p value is 0.00907\n",
      "Statistically significant difference, can reject null hypothesis\n",
      "Statistically significant difference, can reject null hypothesis\n"
     ]
    }
   ],
   "source": [
    "#Testing using shaking hands example\n",
    "coffee_array = np.array([34, 52, 26, 47, 42, 37, 40])\n",
    "soda_array = np.array([39, 57, 68, 74, 49, 57])\n",
    "calculate_t_statistic(coffee_array, soda_array)"
   ]
  }
 ],
 "metadata": {
  "kernelspec": {
   "display_name": "Python 3",
   "language": "python",
   "name": "python3"
  },
  "language_info": {
   "codemirror_mode": {
    "name": "ipython",
    "version": 3
   },
   "file_extension": ".py",
   "mimetype": "text/x-python",
   "name": "python",
   "nbconvert_exporter": "python",
   "pygments_lexer": "ipython3",
   "version": "3.6.1"
  }
 },
 "nbformat": 4,
 "nbformat_minor": 2
}
